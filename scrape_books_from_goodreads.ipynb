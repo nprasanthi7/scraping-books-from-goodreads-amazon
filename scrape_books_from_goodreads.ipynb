{
  "cells": [
    {
      "cell_type": "code",
      "execution_count": 1,
      "metadata": {
        "colab": {
          "base_uri": "https://localhost:8080/"
        },
        "id": "8d_f_wN0d6yk",
        "outputId": "d7119732-4e37-47fe-ea23-08a5fc9eb4c9"
      },
      "outputs": [
        {
          "output_type": "stream",
          "name": "stdout",
          "text": [
            "\u001b[?25l\r\u001b[K     |████▊                           | 10 kB 30.5 MB/s eta 0:00:01\r\u001b[K     |█████████▌                      | 20 kB 40.1 MB/s eta 0:00:01\r\u001b[K     |██████████████▎                 | 30 kB 31.7 MB/s eta 0:00:01\r\u001b[K     |███████████████████             | 40 kB 14.7 MB/s eta 0:00:01\r\u001b[K     |███████████████████████▉        | 51 kB 13.2 MB/s eta 0:00:01\r\u001b[K     |████████████████████████████▋   | 61 kB 15.3 MB/s eta 0:00:01\r\u001b[K     |████████████████████████████████| 68 kB 5.2 MB/s \n",
            "\u001b[?25h  Building wheel for uuid (setup.py) ... \u001b[?25l\u001b[?25hdone\n"
          ]
        }
      ],
      "source": [
        "# Jovian Commit Essentials\n",
        "# Please retain and execute this cell without modifying the contents for `jovian.commit` to work\n",
        "!pip install jovian --upgrade -q\n",
        "import jovian\n",
        "jovian.set_project('scrape-books-from-goodreads')\n",
        "jovian.set_colab_id('1x9NOCCNlBSmL82ih-K0SNt_xJMkY-NOq')"
      ]
    },
    {
      "cell_type": "code",
      "execution_count": 2,
      "metadata": {
        "id": "JId-fngwWx8S"
      },
      "outputs": [],
      "source": [
        "!pip install jovian --upgrade --quiet"
      ]
    },
    {
      "cell_type": "code",
      "execution_count": 3,
      "metadata": {
        "id": "6ZwdwHwlWx8U"
      },
      "outputs": [],
      "source": [
        "import jovian"
      ]
    },
    {
      "cell_type": "code",
      "execution_count": 4,
      "metadata": {
        "id": "jkqBXyNyWx8U",
        "colab": {
          "base_uri": "https://localhost:8080/",
          "height": 126
        },
        "outputId": "f287711a-2d27-4c49-b581-b5bd093227ca"
      },
      "outputs": [
        {
          "output_type": "stream",
          "name": "stdout",
          "text": [
            "[jovian] Detected Colab notebook...\u001b[0m\n",
            "[jovian] Please enter your API key ( from https://jovian.ai/ ):\u001b[0m\n",
            "API KEY: ··········\n",
            "[jovian] Uploading colab notebook to Jovian...\u001b[0m\n",
            "Committed successfully! https://jovian.ai/prasanthi-vvit/scrape-books-from-goodreads\n"
          ]
        },
        {
          "output_type": "execute_result",
          "data": {
            "text/plain": [
              "'https://jovian.ai/prasanthi-vvit/scrape-books-from-goodreads'"
            ],
            "application/vnd.google.colaboratory.intrinsic+json": {
              "type": "string"
            }
          },
          "metadata": {},
          "execution_count": 4
        }
      ],
      "source": [
        "# Execute this to save new versions of the notebook\n",
        "jovian.commit(project=\"scrape-books-from-goodreads\")"
      ]
    },
    {
      "cell_type": "code",
      "execution_count": 5,
      "metadata": {
        "id": "gioBj4f_Wx8V",
        "colab": {
          "base_uri": "https://localhost:8080/"
        },
        "outputId": "c9a81d70-6236-4d53-dc5b-fe78a7cc8ba6"
      },
      "outputs": [
        {
          "output_type": "stream",
          "name": "stdout",
          "text": [
            "Get:1 http://ppa.launchpad.net/c2d4u.team/c2d4u4.0+/ubuntu bionic InRelease [15.9 kB]\n",
            "Hit:2 http://ppa.launchpad.net/cran/libgit2/ubuntu bionic InRelease\n",
            "Get:3 https://cloud.r-project.org/bin/linux/ubuntu bionic-cran40/ InRelease [3,626 B]\n",
            "Get:4 http://ppa.launchpad.net/deadsnakes/ppa/ubuntu bionic InRelease [15.9 kB]\n",
            "Get:5 http://ppa.launchpad.net/graphics-drivers/ppa/ubuntu bionic InRelease [21.3 kB]\n",
            "Hit:6 http://archive.ubuntu.com/ubuntu bionic InRelease\n",
            "Get:7 http://security.ubuntu.com/ubuntu bionic-security InRelease [88.7 kB]\n",
            "Ign:8 https://developer.download.nvidia.com/compute/cuda/repos/ubuntu1804/x86_64  InRelease\n",
            "Get:9 http://archive.ubuntu.com/ubuntu bionic-updates InRelease [88.7 kB]\n",
            "Get:10 http://ppa.launchpad.net/c2d4u.team/c2d4u4.0+/ubuntu bionic/main Sources [1,831 kB]\n",
            "Ign:11 https://developer.download.nvidia.com/compute/machine-learning/repos/ubuntu1804/x86_64  InRelease\n",
            "Get:12 https://developer.download.nvidia.com/compute/cuda/repos/ubuntu1804/x86_64  Release [696 B]\n",
            "Hit:13 https://developer.download.nvidia.com/compute/machine-learning/repos/ubuntu1804/x86_64  Release\n",
            "Get:14 https://developer.download.nvidia.com/compute/cuda/repos/ubuntu1804/x86_64  Release.gpg [836 B]\n",
            "Get:15 http://ppa.launchpad.net/c2d4u.team/c2d4u4.0+/ubuntu bionic/main amd64 Packages [938 kB]\n",
            "Get:16 http://archive.ubuntu.com/ubuntu bionic-backports InRelease [74.6 kB]\n",
            "Get:17 https://cloud.r-project.org/bin/linux/ubuntu bionic-cran40/ Packages [82.3 kB]\n",
            "Get:18 http://ppa.launchpad.net/deadsnakes/ppa/ubuntu bionic/main amd64 Packages [45.3 kB]\n",
            "Get:19 http://ppa.launchpad.net/graphics-drivers/ppa/ubuntu bionic/main amd64 Packages [44.3 kB]\n",
            "Get:21 https://developer.download.nvidia.com/compute/cuda/repos/ubuntu1804/x86_64  Packages [951 kB]\n",
            "Get:22 http://security.ubuntu.com/ubuntu bionic-security/universe amd64 Packages [1,489 kB]\n",
            "Get:23 http://archive.ubuntu.com/ubuntu bionic-updates/multiverse amd64 Packages [29.8 kB]\n",
            "Get:24 http://archive.ubuntu.com/ubuntu bionic-updates/universe amd64 Packages [2,267 kB]\n",
            "Get:25 http://security.ubuntu.com/ubuntu bionic-security/restricted amd64 Packages [884 kB]\n",
            "Get:26 http://security.ubuntu.com/ubuntu bionic-security/main amd64 Packages [2,693 kB]\n",
            "Get:27 http://archive.ubuntu.com/ubuntu bionic-updates/main amd64 Packages [3,133 kB]\n",
            "Get:28 http://archive.ubuntu.com/ubuntu bionic-updates/restricted amd64 Packages [918 kB]\n",
            "Get:29 http://archive.ubuntu.com/ubuntu bionic-backports/main amd64 Packages [12.2 kB]\n",
            "Get:30 http://archive.ubuntu.com/ubuntu bionic-backports/universe amd64 Packages [12.9 kB]\n",
            "Fetched 15.6 MB in 3s (4,844 kB/s)\n",
            "Reading package lists...\n",
            "Building dependency tree...\n",
            "Reading state information...\n",
            "96 packages can be upgraded. Run 'apt list --upgradable' to see them.\n",
            "Reading package lists...\n",
            "Building dependency tree...\n",
            "Reading state information...\n",
            "The following additional packages will be installed:\n",
            "  chromium-browser chromium-browser-l10n chromium-codecs-ffmpeg-extra\n",
            "Suggested packages:\n",
            "  webaccounts-chromium-extension unity-chromium-extension\n",
            "The following NEW packages will be installed:\n",
            "  chromium-browser chromium-browser-l10n chromium-chromedriver\n",
            "  chromium-codecs-ffmpeg-extra\n",
            "0 upgraded, 4 newly installed, 0 to remove and 96 not upgraded.\n",
            "Need to get 88.3 MB of archives.\n",
            "After this operation, 294 MB of additional disk space will be used.\n",
            "Get:1 http://archive.ubuntu.com/ubuntu bionic-updates/universe amd64 chromium-codecs-ffmpeg-extra amd64 99.0.4844.84-0ubuntu0.18.04.1 [1,142 kB]\n",
            "Get:2 http://archive.ubuntu.com/ubuntu bionic-updates/universe amd64 chromium-browser amd64 99.0.4844.84-0ubuntu0.18.04.1 [77.7 MB]\n",
            "Get:3 http://archive.ubuntu.com/ubuntu bionic-updates/universe amd64 chromium-browser-l10n all 99.0.4844.84-0ubuntu0.18.04.1 [4,397 kB]\n",
            "Get:4 http://archive.ubuntu.com/ubuntu bionic-updates/universe amd64 chromium-chromedriver amd64 99.0.4844.84-0ubuntu0.18.04.1 [5,092 kB]\n",
            "Fetched 88.3 MB in 4s (24.2 MB/s)\n",
            "Selecting previously unselected package chromium-codecs-ffmpeg-extra.\n",
            "(Reading database ... 156210 files and directories currently installed.)\n",
            "Preparing to unpack .../chromium-codecs-ffmpeg-extra_99.0.4844.84-0ubuntu0.18.04.1_amd64.deb ...\n",
            "Unpacking chromium-codecs-ffmpeg-extra (99.0.4844.84-0ubuntu0.18.04.1) ...\n",
            "Selecting previously unselected package chromium-browser.\n",
            "Preparing to unpack .../chromium-browser_99.0.4844.84-0ubuntu0.18.04.1_amd64.deb ...\n",
            "Unpacking chromium-browser (99.0.4844.84-0ubuntu0.18.04.1) ...\n",
            "Selecting previously unselected package chromium-browser-l10n.\n",
            "Preparing to unpack .../chromium-browser-l10n_99.0.4844.84-0ubuntu0.18.04.1_all.deb ...\n",
            "Unpacking chromium-browser-l10n (99.0.4844.84-0ubuntu0.18.04.1) ...\n",
            "Selecting previously unselected package chromium-chromedriver.\n",
            "Preparing to unpack .../chromium-chromedriver_99.0.4844.84-0ubuntu0.18.04.1_amd64.deb ...\n",
            "Unpacking chromium-chromedriver (99.0.4844.84-0ubuntu0.18.04.1) ...\n",
            "Setting up chromium-codecs-ffmpeg-extra (99.0.4844.84-0ubuntu0.18.04.1) ...\n",
            "Setting up chromium-browser (99.0.4844.84-0ubuntu0.18.04.1) ...\n",
            "update-alternatives: using /usr/bin/chromium-browser to provide /usr/bin/x-www-browser (x-www-browser) in auto mode\n",
            "update-alternatives: using /usr/bin/chromium-browser to provide /usr/bin/gnome-www-browser (gnome-www-browser) in auto mode\n",
            "Setting up chromium-chromedriver (99.0.4844.84-0ubuntu0.18.04.1) ...\n",
            "Setting up chromium-browser-l10n (99.0.4844.84-0ubuntu0.18.04.1) ...\n",
            "Processing triggers for man-db (2.8.3-2ubuntu0.1) ...\n",
            "Processing triggers for hicolor-icon-theme (0.17-2) ...\n",
            "Processing triggers for mime-support (3.60ubuntu1) ...\n",
            "Processing triggers for libc-bin (2.27-3ubuntu1.3) ...\n",
            "/sbin/ldconfig.real: /usr/local/lib/python3.7/dist-packages/ideep4py/lib/libmkldnn.so.0 is not a symbolic link\n",
            "\n",
            "\u001b[K     |████████████████████████████████| 968 kB 13.4 MB/s \n",
            "\u001b[K     |████████████████████████████████| 359 kB 76.3 MB/s \n",
            "\u001b[K     |████████████████████████████████| 138 kB 65.2 MB/s \n",
            "\u001b[K     |████████████████████████████████| 55 kB 3.6 MB/s \n",
            "\u001b[K     |████████████████████████████████| 3.6 MB 58.2 MB/s \n",
            "\u001b[K     |████████████████████████████████| 58 kB 5.1 MB/s \n",
            "\u001b[31mERROR: pip's dependency resolver does not currently take into account all the packages that are installed. This behaviour is the source of the following dependency conflicts.\n",
            "requests 2.23.0 requires urllib3!=1.25.0,!=1.25.1,<1.26,>=1.21.1, but you have urllib3 1.26.9 which is incompatible.\n",
            "datascience 0.10.6 requires folium==0.2.1, but you have folium 0.8.3 which is incompatible.\u001b[0m\n",
            "\u001b[?25h"
          ]
        }
      ],
      "source": [
        "# RUN THIS CELL WHEN USING THE NOTEBOOK ON COLAB - NO PREVIOUS INSTALLATION OF SELENIUM IS NEEDED\n",
        "# # install chromium, its driver, and selenium\n",
        "!apt update -q\n",
        "!apt install chromium-chromedriver -q\n",
        "!pip install selenium -q\n",
        "# set options to be headless\n",
        "from selenium import webdriver\n",
        "options = webdriver.ChromeOptions()\n",
        "options.add_argument('--headless')\n",
        "options.add_argument('--no-sandbox')\n",
        "options.add_argument('--disable-dev-shm-usage')\n",
        "# open it, go to a website, and get results\n",
        "driver = webdriver.Chrome('chromedriver',options=options)\n",
        "from selenium.webdriver.common.by import By\n",
        "from selenium.webdriver.common.keys import Keys\n",
        "from selenium.webdriver.support.ui import WebDriverWait\n",
        "from selenium.webdriver.support import expected_conditions as EC\n",
        "from selenium.webdriver.chrome.service import Service\n",
        "import time"
      ]
    },
    {
      "cell_type": "code",
      "execution_count": 7,
      "metadata": {
        "id": "rx99inwNXB-N"
      },
      "outputs": [],
      "source": [
        "from constants import user_id,password\n",
        "import pandas as pd"
      ]
    },
    {
      "cell_type": "code",
      "execution_count": 10,
      "metadata": {
        "id": "wfkeIeVdXb6d"
      },
      "outputs": [],
      "source": [
        "def get_goodreadsbooks(driver):\n",
        "  driver.get(\"https://www.goodreads.com/user/sign_in\")\n",
        "  user_name = driver.find_element(By.ID,'user_email')\n",
        "  user_name.send_keys(user_id)\n",
        "  password_box = driver.find_element(By.ID,'user_password')\n",
        "  password_box.send_keys(password)\n",
        "  driver.find_element(By.CLASS_NAME,'submitPara')\n",
        "  submit_button = driver.find_element(By.XPATH,\"//input[@name='next'][@type='submit']\")\n",
        "  submit_button.click()\n",
        "  time.sleep(2)\n",
        "  books_tag=driver.find_element(By.LINK_TEXT,'My Books')\n",
        "  books_tag.click()\n",
        "  want_a_tag=driver.find_element(By.XPATH,'//*[@id=\"paginatedShelfList\"]/div[3]/a')\n",
        "  driver.get(want_a_tag.get_attribute('href'))\n",
        "  books_data=[]\n",
        "  for table in driver.find_elements(By.XPATH,'//*[contains(@id,\"books\")]//tr'):\n",
        "    data1 = [item.text for item in table.find_elements(By.XPATH,\".//*[self::td or self::th]\")]\n",
        "    books_data.append(data1)\n",
        "  driver.find_element(By.XPATH,'/html/body/div[2]/div[1]/div/header/div[2]/div/div[3]/ul/li[5]').click()\n",
        "  driver.find_element(By.LINK_TEXT,'Sign out').click()\n",
        "  return books_data"
      ]
    },
    {
      "cell_type": "code",
      "execution_count": 11,
      "metadata": {
        "id": "hJl4tYzKX5jW"
      },
      "outputs": [],
      "source": [
        "def get_goodreadscsv(books_data):\n",
        "  dict1={'Title':[],'Author':[],'Avg_rating':[]}\n",
        "  for i in range(1,len(books_data)):\n",
        "    dict1['Title'].append(books_data[i][3]);\n",
        "    dict1['Author'].append(books_data[i][4]);\n",
        "    dict1['Avg_rating'].append(books_data[i][9]);\n",
        "  goodreads_df=pd.DataFrame(dict1);\n",
        "  goodreads_df.to_csv('books_goodreads.csv',header=list(dict1.keys()),index=None);\n",
        "  print('books_goodreads.csv is generated.')\n",
        "  return goodreads_df"
      ]
    },
    {
      "cell_type": "code",
      "execution_count": 28,
      "metadata": {
        "id": "9QmOLTs-Ym0E"
      },
      "outputs": [],
      "source": [
        "def get_amazonprice(goodreads_df):\n",
        "  dict2={'Title':[],'Ratings':[],'Price':[]}\n",
        "  for title in goodreads_df['Title']:\n",
        "    driver.get(\"https://www.amazon.in/\")\n",
        "    input=driver.find_element(By.ID,\"twotabsearchtextbox\")\n",
        "    input.send_keys(title)\n",
        "    input.send_keys(Keys.ENTER)\n",
        "    time.sleep(2)\n",
        "    new_page=driver.find_element(By.PARTIAL_LINK_TEXT,title)\n",
        "    new_page.click()\n",
        "    driver.get(new_page.get_attribute('href'))\n",
        "    dict2['Title'].append(driver.find_element(By.XPATH,'//*[@id=\"productTitle\"]').text)\n",
        "    dict2['Ratings'].append(driver.find_element(By.ID,'acrCustomerReviewLink').text)\n",
        "    dict2['Price'].append(driver.find_element(By.CLASS_NAME,'a-color-price').text)\n",
        "  amazon_df=pd.DataFrame(dict2)\n",
        "  amazon_df.to_csv('books_amazon.csv',header=['Title','Ratings','Price'],index=None);\n",
        "  print('books_amazon.csv is generated')\n",
        "  return amazon_df"
      ]
    },
    {
      "cell_type": "code",
      "execution_count": 14,
      "metadata": {
        "id": "4GRFaRBHY_k2"
      },
      "outputs": [],
      "source": [
        "def get_finalcsv(goodreads_df,amazon_df):\n",
        "  books_amazon_goodreads_df=goodreads_df.merge(amazon_df, on='Title')\n",
        "  books_amazon_goodreads_df.to_csv('books_amazon_goodreads.csv')\n",
        "  print('books_amazon_goodreads.csv is generated')"
      ]
    },
    {
      "cell_type": "code",
      "source": [
        "books_data=get_goodreadsbooks(driver)"
      ],
      "metadata": {
        "id": "OP58Obvkew0K"
      },
      "execution_count": 27,
      "outputs": []
    },
    {
      "cell_type": "code",
      "source": [
        "goodreads_df=get_goodreadscsv(books_data)"
      ],
      "metadata": {
        "colab": {
          "base_uri": "https://localhost:8080/"
        },
        "id": "X5cO3tIRe4H0",
        "outputId": "ec79ee3b-ca5f-4d2c-b33f-9b8efea50c63"
      },
      "execution_count": 29,
      "outputs": [
        {
          "output_type": "stream",
          "name": "stdout",
          "text": [
            "books_goodreads.csv is generated.\n"
          ]
        }
      ]
    },
    {
      "cell_type": "code",
      "execution_count": 30,
      "metadata": {
        "colab": {
          "base_uri": "https://localhost:8080/"
        },
        "id": "M87_ICB3dGZW",
        "outputId": "be9b766c-18b8-456e-8989-563960f40408"
      },
      "outputs": [
        {
          "output_type": "stream",
          "name": "stdout",
          "text": [
            "books_amazon.csv is generated\n"
          ]
        }
      ],
      "source": [
        "amazon_df=get_amazonprice(goodreads_df)"
      ]
    },
    {
      "cell_type": "code",
      "execution_count": 31,
      "metadata": {
        "colab": {
          "base_uri": "https://localhost:8080/"
        },
        "id": "SAjvRJeYQR1b",
        "outputId": "f3beee0b-62fb-4b6b-8464-06a18d4e0ed8"
      },
      "outputs": [
        {
          "output_type": "stream",
          "name": "stdout",
          "text": [
            "books_amazon_goodreads.csv is generated\n"
          ]
        }
      ],
      "source": [
        "get_finalcsv(goodreads_df,amazon_df)\n"
      ]
    },
    {
      "cell_type": "code",
      "execution_count": 41,
      "metadata": {
        "id": "H088jQ4MVzae",
        "colab": {
          "base_uri": "https://localhost:8080/",
          "height": 90
        },
        "outputId": "9844ec67-4b04-46ee-d971-bd413f9cdcef"
      },
      "outputs": [
        {
          "output_type": "stream",
          "name": "stdout",
          "text": [
            "[jovian] Detected Colab notebook...\u001b[0m\n",
            "[jovian] Uploading colab notebook to Jovian...\u001b[0m\n",
            "Committed successfully! https://jovian.ai/prasanthi-vvit/scrape-books-from-goodreads\n"
          ]
        },
        {
          "output_type": "execute_result",
          "data": {
            "text/plain": [
              "'https://jovian.ai/prasanthi-vvit/scrape-books-from-goodreads'"
            ],
            "application/vnd.google.colaboratory.intrinsic+json": {
              "type": "string"
            }
          },
          "metadata": {},
          "execution_count": 41
        }
      ],
      "source": [
        "jovian.commit()"
      ]
    },
    {
      "cell_type": "code",
      "source": [
        ""
      ],
      "metadata": {
        "id": "l0RJEYFJl-E7"
      },
      "execution_count": null,
      "outputs": []
    }
  ],
  "metadata": {
    "colab": {
      "collapsed_sections": [],
      "name": "scrape-books-from-goodreads.ipynb",
      "provenance": []
    },
    "kernelspec": {
      "display_name": "Python 3",
      "language": "python",
      "name": "python3"
    },
    "language_info": {
      "codemirror_mode": {
        "name": "ipython",
        "version": 3
      },
      "file_extension": ".py",
      "mimetype": "text/x-python",
      "name": "python",
      "nbconvert_exporter": "python",
      "pygments_lexer": "ipython3",
      "version": "3.7.6"
    }
  },
  "nbformat": 4,
  "nbformat_minor": 0
}